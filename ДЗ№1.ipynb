{
  "nbformat": 4,
  "nbformat_minor": 0,
  "metadata": {
    "colab": {
      "name": "ДЗ№1",
      "provenance": [],
      "authorship_tag": "ABX9TyNlz6VAGAWPHwqmaWefeGEO",
      "include_colab_link": true
    },
    "kernelspec": {
      "name": "python3",
      "display_name": "Python 3"
    },
    "language_info": {
      "name": "python"
    }
  },
  "cells": [
    {
      "cell_type": "markdown",
      "metadata": {
        "id": "view-in-github",
        "colab_type": "text"
      },
      "source": [
        "<a href=\"https://colab.research.google.com/github/Misurugi/project/blob/main/%D0%94%D0%97%E2%84%961.ipynb\" target=\"_parent\"><img src=\"https://colab.research.google.com/assets/colab-badge.svg\" alt=\"Open In Colab\"/></a>"
      ]
    },
    {
      "cell_type": "markdown",
      "source": [
        "№1 работа с переменными"
      ],
      "metadata": {
        "id": "e225jx17v0QH"
      }
    },
    {
      "cell_type": "code",
      "source": [
        "w = \"hello world\"\n",
        "print(w)\n",
        "name = input(\"Введите ваше имя: \")\n",
        "print(\"Меня зовут\", name)\n",
        "a = float(input(\"введите дробное число: \"))\n",
        "print(a)"
      ],
      "metadata": {
        "id": "58O5i5xovqAW"
      },
      "execution_count": null,
      "outputs": []
    },
    {
      "cell_type": "markdown",
      "source": [
        "№2 преобразование времени"
      ],
      "metadata": {
        "id": "wONi4-GDwEf0"
      }
    },
    {
      "cell_type": "code",
      "source": [
        "time = int(input(\"введите время в секундах: \"))\n",
        "hour = time // 3600\n",
        "mins = time // 60\n",
        "sec = time % 60\n",
        "if hour < 10:\n",
        "    hour = str('0' + str(hour))\n",
        "else:\n",
        "    hour = str(hour)\n",
        "if mins < 10:\n",
        "    mins = str('0' + str(mins))\n",
        "else:\n",
        "    mins = str(mins)\n",
        "if sec < 10:\n",
        "    sec = str('0' + str(sec))\n",
        "else:\n",
        "    sec = str(sec)\n",
        "print(str(hour) + ':' + str(mins) + ':' + str(sec))"
      ],
      "metadata": {
        "id": "ag5xMB9xvstn"
      },
      "execution_count": null,
      "outputs": []
    },
    {
      "cell_type": "markdown",
      "source": [
        "№3 Сумма для случайного числа"
      ],
      "metadata": {
        "id": "kWcD2J_jwOkp"
      }
    },
    {
      "cell_type": "code",
      "source": [
        "b = int(input(\"введите число: \"))\n",
        "summ = b + (b * 11) + (b * 111)\n",
        "print(summ)"
      ],
      "metadata": {
        "id": "6uVUeeacwM8v"
      },
      "execution_count": null,
      "outputs": []
    },
    {
      "cell_type": "markdown",
      "source": [
        "№4 Поиск самой большой цифры в случайном числе"
      ],
      "metadata": {
        "id": "mLeMsOZhwVzh"
      }
    },
    {
      "cell_type": "code",
      "execution_count": null,
      "metadata": {
        "id": "NJjggClbh3tc"
      },
      "outputs": [],
      "source": [
        "i = int(input(\"Введите целое положительное число \"))\n",
        "r = 0\n",
        "while i > 10:\n",
        "    d = i % 10\n",
        "    i //= 10\n",
        "    if d > r:\n",
        "        r = d\n",
        "print(r)"
      ]
    },
    {
      "cell_type": "markdown",
      "source": [
        "№5,6 Работа с данными фирмы"
      ],
      "metadata": {
        "id": "KJj6hc7Ywjd0"
      }
    },
    {
      "cell_type": "code",
      "source": [
        "revenue = int(input(\"Введите сумму выручки фирмы за прошлый год: \"))\n",
        "cost = int(input(\"Введите сумму издержек фирмы за прошлый год: \"))\n",
        "people = int(input(\"Введите количество человек, работающих в фирме: \"))\n",
        "if revenue >= cost:\n",
        "    print(\"Фирма работала с прибылью\")\n",
        "else:\n",
        "    print(\"Фирма работала в убыток\")\n",
        "profit = (revenue - cost) / revenue * 100\n",
        "profitPeople = (revenue - cost) / people\n",
        "print(\"Рентабельность фирмы составила\", profit, \"%\")\n",
        "print(\"На каждого сотрудника фирмы прибыль составила\", profitPeople)"
      ],
      "metadata": {
        "id": "0WLPmTU3wfwX"
      },
      "execution_count": null,
      "outputs": []
    },
    {
      "cell_type": "markdown",
      "source": [
        "№7 Задача про спортсмена"
      ],
      "metadata": {
        "id": "QlRMRTC2wnHW"
      }
    },
    {
      "cell_type": "code",
      "source": [
        "x = int(input(\"Введите количество километров для первого дня пробежки: \"))\n",
        "y = int(input(\"Введите количество километров для желаемого результата: \"))\n",
        "day = 1\n",
        "while y - x >= 0:\n",
        "    x = x + (x * 0.1)\n",
        "    day += 1\n",
        "print(day)\n"
      ],
      "metadata": {
        "id": "_sSj4J1XB0QU"
      },
      "execution_count": null,
      "outputs": []
    }
  ]
}